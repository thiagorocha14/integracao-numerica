{
  "nbformat": 4,
  "nbformat_minor": 0,
  "metadata": {
    "colab": {
      "provenance": [],
      "authorship_tag": "ABX9TyPQV4x2uRKQq1/ZDauxMUUZ",
      "include_colab_link": true
    },
    "kernelspec": {
      "name": "python3",
      "display_name": "Python 3"
    },
    "language_info": {
      "name": "python"
    }
  },
  "cells": [
    {
      "cell_type": "markdown",
      "metadata": {
        "id": "view-in-github",
        "colab_type": "text"
      },
      "source": [
        "<a href=\"https://colab.research.google.com/github/thiagorocha14/integracao-numerica/blob/master/Jogo_da_Velha_e_redes_neurais.ipynb\" target=\"_parent\"><img src=\"https://colab.research.google.com/assets/colab-badge.svg\" alt=\"Open In Colab\"/></a>"
      ]
    },
    {
      "cell_type": "markdown",
      "source": [
        "JOGO DA VELHA"
      ],
      "metadata": {
        "id": "HNuV474TUz6N"
      }
    },
    {
      "cell_type": "code",
      "execution_count": null,
      "metadata": {
        "id": "oN00db4fT0Td"
      },
      "outputs": [],
      "source": [
        "# @title Jogo para criar dados de treinamento (.CSV)\n",
        "import csv"
      ]
    },
    {
      "cell_type": "code",
      "source": [
        "def criar_tabuleiro():\n",
        "    return [\" \" for _ in range(9)]"
      ],
      "metadata": {
        "id": "gFMOSgmEz1hI"
      },
      "execution_count": 5,
      "outputs": []
    },
    {
      "cell_type": "code",
      "source": [
        "def mostrar_tabuleiro(tabuleiro):\n",
        "    print(f\"{tabuleiro[0]} | {tabuleiro[1]} | {tabuleiro[2]}\")\n",
        "    print(\"--+---+--\")\n",
        "    print(f\"{tabuleiro[3]} | {tabuleiro[4]} | {tabuleiro[5]}\")\n",
        "    print(\"--+---+--\")\n",
        "    print(f\"{tabuleiro[6]} | {tabuleiro[7]} | {tabuleiro[8]}\")"
      ],
      "metadata": {
        "id": "CdtKmbIjzA45"
      },
      "execution_count": 4,
      "outputs": []
    },
    {
      "cell_type": "code",
      "source": [
        "def verificar_vitoria(tabuleiro, jogador):\n",
        "    combinacoes_vencedoras = [\n",
        "        [0, 1, 2], [3, 4, 5], [6, 7, 8],  # Linhas\n",
        "        [0, 3, 6], [1, 4, 7], [2, 5, 8],  # Colunas\n",
        "        [0, 4, 8], [2, 4, 6]              # Diagonais\n",
        "    ]\n",
        "    return any(all(tabuleiro[pos] == jogador for pos in combinacao) for combinacao in combinacoes_vencedoras)"
      ],
      "metadata": {
        "id": "l6dF5JeUzVUw"
      },
      "execution_count": 3,
      "outputs": []
    },
    {
      "cell_type": "code",
      "source": [
        "def verificar_empate(tabuleiro):\n",
        "    return \" \" not in tabuleiro"
      ],
      "metadata": {
        "id": "goOIj9_vzowG"
      },
      "execution_count": 6,
      "outputs": []
    },
    {
      "cell_type": "code",
      "source": [
        "def salvar_resultados_csv(resultados):\n",
        "    import csv\n",
        "    with open(\"resultados.csv\", mode=\"a\", newline=\"\") as arquivo_csv:\n",
        "        escritor = csv.writer(arquivo_csv)\n",
        "        escritor.writerows(resultados)"
      ],
      "metadata": {
        "id": "cc2GbMaXzrMW"
      },
      "execution_count": 12,
      "outputs": []
    },
    {
      "cell_type": "code",
      "source": [
        "def jogar_jogo():\n",
        "    tabuleiro = criar_tabuleiro()\n",
        "    jogador_atual = \"X\"\n",
        "    partida = []\n",
        "\n",
        "    while True:\n",
        "        mostrar_tabuleiro(tabuleiro)\n",
        "        try:\n",
        "            posicao = int(input(f\"Jogador {jogador_atual}, escolha uma posição (0-8): \"))\n",
        "            if tabuleiro[posicao] != \" \":\n",
        "                print(\"Posição já ocupada! Tente novamente.\")\n",
        "                continue\n",
        "        except (ValueError, IndexError):\n",
        "            print(\"Entrada inválida! Escolha um número de 0 a 8.\")\n",
        "            continue\n",
        "\n",
        "        tabuleiro[posicao] = jogador_atual\n",
        "        partida.append(jogador_atual + str(posicao))\n",
        "\n",
        "        if verificar_vitoria(tabuleiro, jogador_atual):\n",
        "            mostrar_tabuleiro(tabuleiro)\n",
        "            print(f\"Jogador {jogador_atual} venceu!\")\n",
        "            return partida, jogador_atual\n",
        "\n",
        "        if verificar_empate(tabuleiro):\n",
        "            mostrar_tabuleiro(tabuleiro)\n",
        "            print(\"Empate!\")\n",
        "            return partida, \"Empate\"\n",
        "\n",
        "        jogador_atual = \"O\" if jogador_atual == \"X\" else \"X\""
      ],
      "metadata": {
        "id": "IoVJkBCuzxp1"
      },
      "execution_count": 8,
      "outputs": []
    },
    {
      "cell_type": "code",
      "source": [
        "# @title Menu Principal do jogo\n",
        "def main():\n",
        "    print(\"Bem-vindo ao Jogo da Velha!\")\n",
        "    resultados = []\n",
        "    while True:\n",
        "        partida, vencedor = jogar_jogo()\n",
        "        resultados.append(partida + [vencedor])\n",
        "        jogar_novamente = input(\"Deseja jogar novamente? (s/n): \").strip().lower()\n",
        "        if jogar_novamente != \"s\":\n",
        "            salvar_resultados_csv(resultados)\n",
        "            print(\"Resultados salvos em resultados.csv.\")\n",
        "            print(\"Obrigado por jogar! Até a próxima.\")\n",
        "            break\n",
        "\n",
        "if _name_ == \"_main_\":\n",
        "    main()"
      ],
      "metadata": {
        "colab": {
          "base_uri": "https://localhost:8080/"
        },
        "id": "5puNXVdzz8v-",
        "outputId": "3af4e176-ade0-4e63-cf28-2ffbd93c00cb"
      },
      "execution_count": 13,
      "outputs": [
        {
          "output_type": "stream",
          "name": "stdout",
          "text": [
            "Bem-vindo ao Jogo da Velha!\n",
            "  |   |  \n",
            "--+---+--\n",
            "  |   |  \n",
            "--+---+--\n",
            "  |   |  \n",
            "Jogador X, escolha uma posição (0-8): 0\n",
            "X |   |  \n",
            "--+---+--\n",
            "  |   |  \n",
            "--+---+--\n",
            "  |   |  \n",
            "Jogador O, escolha uma posição (0-8): 3\n",
            "X |   |  \n",
            "--+---+--\n",
            "O |   |  \n",
            "--+---+--\n",
            "  |   |  \n",
            "Jogador X, escolha uma posição (0-8): 4\n",
            "X |   |  \n",
            "--+---+--\n",
            "O | X |  \n",
            "--+---+--\n",
            "  |   |  \n",
            "Jogador O, escolha uma posição (0-8): 8\n",
            "X |   |  \n",
            "--+---+--\n",
            "O | X |  \n",
            "--+---+--\n",
            "  |   | O\n",
            "Jogador X, escolha uma posição (0-8): 7\n",
            "X |   |  \n",
            "--+---+--\n",
            "O | X |  \n",
            "--+---+--\n",
            "  | X | O\n",
            "Jogador O, escolha uma posição (0-8): 2\n",
            "X |   | O\n",
            "--+---+--\n",
            "O | X |  \n",
            "--+---+--\n",
            "  | X | O\n",
            "Jogador X, escolha uma posição (0-8): 1\n",
            "X | X | O\n",
            "--+---+--\n",
            "O | X |  \n",
            "--+---+--\n",
            "  | X | O\n",
            "Jogador X venceu!\n",
            "Deseja jogar novamente? (s/n): s\n",
            "  |   |  \n",
            "--+---+--\n",
            "  |   |  \n",
            "--+---+--\n",
            "  |   |  \n",
            "Jogador X, escolha uma posição (0-8): 3\n",
            "  |   |  \n",
            "--+---+--\n",
            "X |   |  \n",
            "--+---+--\n",
            "  |   |  \n",
            "Jogador O, escolha uma posição (0-8): 7\n",
            "  |   |  \n",
            "--+---+--\n",
            "X |   |  \n",
            "--+---+--\n",
            "  | O |  \n",
            "Jogador X, escolha uma posição (0-8): 8\n",
            "  |   |  \n",
            "--+---+--\n",
            "X |   |  \n",
            "--+---+--\n",
            "  | O | X\n",
            "Jogador O, escolha uma posição (0-8): 1\n",
            "  | O |  \n",
            "--+---+--\n",
            "X |   |  \n",
            "--+---+--\n",
            "  | O | X\n",
            "Jogador X, escolha uma posição (0-8): 4\n",
            "  | O |  \n",
            "--+---+--\n",
            "X | X |  \n",
            "--+---+--\n",
            "  | O | X\n",
            "Jogador O, escolha uma posição (0-8): 0\n",
            "O | O |  \n",
            "--+---+--\n",
            "X | X |  \n",
            "--+---+--\n",
            "  | O | X\n",
            "Jogador X, escolha uma posição (0-8): 5\n",
            "O | O |  \n",
            "--+---+--\n",
            "X | X | X\n",
            "--+---+--\n",
            "  | O | X\n",
            "Jogador X venceu!\n",
            "Deseja jogar novamente? (s/n): n\n",
            "Resultados salvos em resultados.csv.\n",
            "Obrigado por jogar! Até a próxima.\n"
          ]
        }
      ]
    },
    {
      "cell_type": "markdown",
      "source": [
        "\n",
        "\n",
        "---\n",
        "\n"
      ],
      "metadata": {
        "id": "fvWLktD2JBIL"
      }
    },
    {
      "cell_type": "code",
      "source": [
        "# @title Treinando a Rede Neural\n",
        "import csv\n",
        "import numpy as np\n",
        "import torch\n",
        "import torch.nn as nn\n",
        "import torch.optim as optim\n",
        "from torch.utils.data import DataLoader, Dataset"
      ],
      "metadata": {
        "id": "tj-q5hHnCPlN"
      },
      "execution_count": 14,
      "outputs": []
    },
    {
      "cell_type": "code",
      "source": [
        "#criando dataset personalizado para manipular os dados do Jogo da Velha.\n",
        "class JogoDaVelhaDataset(Dataset):\n",
        "    def __init__(self, X, y):\n",
        "        self.X = torch.tensor(X, dtype=torch.float32)\n",
        "        self.y = torch.tensor(y, dtype=torch.long)\n",
        "\n",
        "    def __len__(self):\n",
        "        return len(self.X)\n",
        "\n",
        "    def __getitem__(self, idx):\n",
        "        return self.X[idx], self.y[idx]"
      ],
      "metadata": {
        "id": "ToNZpJ5JII3V"
      },
      "execution_count": 15,
      "outputs": []
    },
    {
      "cell_type": "code",
      "source": [
        "#A Arquitetura está configurada com 9 entradas (uma para cada posição do tabuleiro),\n",
        "# duas camadas escondidas de 64 neurônios cada,\n",
        "# e uma camada de saída com 3 neurônios para classificar o resultado (vitória de X, vitória de O, ou empate)\n",
        "class ModeloJogoDaVelha(nn.Module):\n",
        "    def __init__(self):\n",
        "        super(ModeloJogoDaVelha, self).__init__()\n",
        "        self.rede = nn.Sequential(\n",
        "            nn.Linear(9, 64),\n",
        "            nn.ReLU(),\n",
        "            nn.Linear(64, 64),\n",
        "            nn.ReLU(),\n",
        "            nn.Linear(64, 3),\n",
        "            nn.Softmax(dim=1)\n",
        "        )\n",
        "\n",
        "    def forward(self, x):\n",
        "        return self.rede(x)"
      ],
      "metadata": {
        "id": "NSTbXuNmIRc8"
      },
      "execution_count": 16,
      "outputs": []
    },
    {
      "cell_type": "code",
      "source": [
        "# Lê o arquivo CSV e converte cada linha em uma lista de jogadas.\n",
        "def carregar_dados_csv(nome_arquivo):\n",
        "    dados = []\n",
        "    with open(nome_arquivo, mode=\"r\") as arquivo_csv:\n",
        "        leitor = csv.reader(arquivo_csv)\n",
        "        for linha in leitor:\n",
        "            dados.append(linha)\n",
        "    return dados\n"
      ],
      "metadata": {
        "id": "rpJHdOsqISua"
      },
      "execution_count": 17,
      "outputs": []
    },
    {
      "cell_type": "code",
      "source": [
        "#Converte o tabuleiro em um vetor de 9 posições onde:\n",
        "#0 indica espaço vazio.\n",
        "#1 indica que o jogador \"X\" jogou na posição.\n",
        "#-1 indica que o jogador \"O\" jogou na posição.\n",
        "\n",
        "def preprocessar_dados(dados):\n",
        "    X = []  # estado do tabuleiro\n",
        "    y = []  # resultado do jogo\n",
        "\n",
        "    for partida in dados:\n",
        "        tabuleiro = [0] * 9  # Representação do tabuleiro inicial (0 = vazio)\n",
        "        for jogada in partida[:-1]:  # Todas as jogadas, exceto o resultado final\n",
        "            jogador = 1 if jogada[0] == 'X' else -1  # 'X' = 1, 'O' = -1\n",
        "            posicao = int(jogada[1])\n",
        "            tabuleiro[posicao] = jogador\n",
        "\n",
        "        resultado = partida[-1]  # Último elemento é o resultado ('X', 'O' ou 'Empate')\n",
        "        if resultado == 'X':\n",
        "            y.append(1)  # X venceu\n",
        "        elif resultado == 'O':\n",
        "            y.append(2)  # O venceu\n",
        "        else:\n",
        "            y.append(0)  # Empate\n",
        "\n",
        "        X.append(tabuleiro)\n",
        "\n",
        "    X = np.array(X)\n",
        "    y = np.array(y)\n",
        "    return X, y"
      ],
      "metadata": {
        "id": "MSYpWH-FIUxy"
      },
      "execution_count": 18,
      "outputs": []
    },
    {
      "cell_type": "code",
      "source": [
        "def treinar_modelo(modelo, dataloader, criterio, otimizador, epochs=50):\n",
        "    for epoch in range(epochs):\n",
        "        modelo.train() # Modo de treino\n",
        "        total_loss = 0\n",
        "        for X_batch, y_batch in dataloader:\n",
        "            otimizador.zero_grad()\n",
        "            saida = modelo(X_batch)\n",
        "            loss = criterio(saida, y_batch) # Erro quadrático médio\n",
        "            loss.backward() # Calcula os gradientes dos pesos em relação à perda\n",
        "            otimizador.step() # Atualizar os pesos do modelo com base no gradiente da perda\n",
        "            total_loss += loss.item() #Armazena a perda\n",
        "        print(f\"Epoch {epoch+1}/{epochs}, Loss: {total_loss/len(dataloader):.4f}\")"
      ],
      "metadata": {
        "id": "-L1NbWbDIqgi"
      },
      "execution_count": 19,
      "outputs": []
    },
    {
      "cell_type": "code",
      "source": [
        "def main():\n",
        "    nome_arquivo = \"resultados.csv\"\n",
        "    dados = carregar_dados_csv(nome_arquivo)\n",
        "    X, y = preprocessar_dados(dados)\n",
        "\n",
        "    # Criar dataset e dataloader\n",
        "    dataset = JogoDaVelhaDataset(X, y)\n",
        "    dataloader = DataLoader(dataset, batch_size=8, shuffle=True)\n",
        "\n",
        "    # Criar modelo que será treinado\n",
        "    modelo = ModeloJogoDaVelha()\n",
        "    criterio = nn.CrossEntropyLoss() #avalia quão erradas estão as previsões comparadas aos rótulos verdadeiros.\n",
        "    otimizador = optim.Adam(modelo.parameters(), lr=0.001)\n",
        "\n",
        "    treinar_modelo(modelo, dataloader, criterio, otimizador, epochs=50)\n",
        "\n",
        "    torch.save(modelo.state_dict(), \"modelo_jogo_da_velha.pth\")\n",
        "    print(\"Modelo treinado e salvo como modelo_jogo_da_velha.pth\")\n",
        "\n",
        "if __name__ == \"__main__\":\n",
        "    main()"
      ],
      "metadata": {
        "colab": {
          "base_uri": "https://localhost:8080/"
        },
        "id": "8RxlAk-EIt57",
        "outputId": "69269b7a-3891-41c2-d927-48831b0880c7"
      },
      "execution_count": 20,
      "outputs": [
        {
          "output_type": "stream",
          "name": "stdout",
          "text": [
            "Epoch 1/50, Loss: 1.1088\n",
            "Epoch 2/50, Loss: 1.0967\n",
            "Epoch 3/50, Loss: 1.0849\n",
            "Epoch 4/50, Loss: 1.0737\n",
            "Epoch 5/50, Loss: 1.0625\n",
            "Epoch 6/50, Loss: 1.0513\n",
            "Epoch 7/50, Loss: 1.0401\n",
            "Epoch 8/50, Loss: 1.0287\n",
            "Epoch 9/50, Loss: 1.0172\n",
            "Epoch 10/50, Loss: 1.0055\n",
            "Epoch 11/50, Loss: 0.9939\n",
            "Epoch 12/50, Loss: 0.9826\n",
            "Epoch 13/50, Loss: 0.9710\n",
            "Epoch 14/50, Loss: 0.9592\n",
            "Epoch 15/50, Loss: 0.9472\n",
            "Epoch 16/50, Loss: 0.9350\n",
            "Epoch 17/50, Loss: 0.9225\n",
            "Epoch 18/50, Loss: 0.9097\n",
            "Epoch 19/50, Loss: 0.8967\n",
            "Epoch 20/50, Loss: 0.8835\n",
            "Epoch 21/50, Loss: 0.8700\n",
            "Epoch 22/50, Loss: 0.8562\n",
            "Epoch 23/50, Loss: 0.8425\n",
            "Epoch 24/50, Loss: 0.8287\n",
            "Epoch 25/50, Loss: 0.8149\n",
            "Epoch 26/50, Loss: 0.8011\n",
            "Epoch 27/50, Loss: 0.7873\n",
            "Epoch 28/50, Loss: 0.7734\n",
            "Epoch 29/50, Loss: 0.7597\n",
            "Epoch 30/50, Loss: 0.7460\n",
            "Epoch 31/50, Loss: 0.7326\n",
            "Epoch 32/50, Loss: 0.7195\n",
            "Epoch 33/50, Loss: 0.7068\n",
            "Epoch 34/50, Loss: 0.6946\n",
            "Epoch 35/50, Loss: 0.6828\n",
            "Epoch 36/50, Loss: 0.6716\n",
            "Epoch 37/50, Loss: 0.6609\n",
            "Epoch 38/50, Loss: 0.6508\n",
            "Epoch 39/50, Loss: 0.6414\n",
            "Epoch 40/50, Loss: 0.6326\n",
            "Epoch 41/50, Loss: 0.6245\n",
            "Epoch 42/50, Loss: 0.6171\n",
            "Epoch 43/50, Loss: 0.6102\n",
            "Epoch 44/50, Loss: 0.6040\n",
            "Epoch 45/50, Loss: 0.5984\n",
            "Epoch 46/50, Loss: 0.5933\n",
            "Epoch 47/50, Loss: 0.5888\n",
            "Epoch 48/50, Loss: 0.5848\n",
            "Epoch 49/50, Loss: 0.5812\n",
            "Epoch 50/50, Loss: 0.5780\n",
            "Modelo treinado e salvo como modelo_jogo_da_velha.pth\n"
          ]
        }
      ]
    },
    {
      "cell_type": "markdown",
      "source": [
        "\n",
        "\n",
        "---\n",
        "\n",
        "\n"
      ],
      "metadata": {
        "id": "_e3bualXSiIP"
      }
    },
    {
      "cell_type": "markdown",
      "source": [
        "**JOGANDO COM A REDE NEURAL**"
      ],
      "metadata": {
        "id": "mMjpfO3-Q-T4"
      }
    },
    {
      "cell_type": "code",
      "source": [
        "import torch\n",
        "import torch.nn as nn\n"
      ],
      "metadata": {
        "id": "7oRbTqmjSsvY"
      },
      "execution_count": 9,
      "outputs": []
    },
    {
      "cell_type": "code",
      "source": [
        "class ModeloJogoDaVelha(nn.Module):\n",
        "    def __init__(self):\n",
        "        super(ModeloJogoDaVelha, self).__init__()\n",
        "        self.rede = nn.Sequential(\n",
        "            nn.Linear(9, 64),\n",
        "            nn.ReLU(),\n",
        "            nn.Linear(64, 64),\n",
        "            nn.ReLU(),\n",
        "            nn.Linear(64, 3),\n",
        "            nn.Softmax(dim=1)\n",
        "        )\n",
        "\n",
        "    def forward(self, x):\n",
        "        return self.rede(x)"
      ],
      "metadata": {
        "id": "-JbQpMEvacis"
      },
      "execution_count": 10,
      "outputs": []
    },
    {
      "cell_type": "code",
      "source": [
        "def jogar_com_rede_neural():\n",
        "    modelo = ModeloJogoDaVelha()\n",
        "    modelo.load_state_dict(torch.load(\"modelo_jogo_da_velha.pth\"))\n",
        "    modelo.eval()\n",
        "\n",
        "    def mostrar_tabuleiro(tabuleiro):\n",
        "        simbolos = {0: \" \", 1: \"X\", -1: \"O\"}\n",
        "        print(\"\\nTabuleiro:\")\n",
        "        for i in range(0, 9, 3):\n",
        "            print(f\" {simbolos[tabuleiro[i]]} | {simbolos[tabuleiro[i+1]]} | {simbolos[tabuleiro[i+2]]} \")\n",
        "            if i < 6:\n",
        "                print(\"---+---+---\")\n",
        "\n",
        "    def verificar_vencedor(tabuleiro):\n",
        "        combinacoes = [\n",
        "            [0, 1, 2], [3, 4, 5], [6, 7, 8],  # Linhas\n",
        "            [0, 3, 6], [1, 4, 7], [2, 5, 8],  # Colunas\n",
        "            [0, 4, 8], [2, 4, 6]             # Diagonais\n",
        "        ]\n",
        "        for linha in combinacoes:\n",
        "            soma = tabuleiro[linha[0]] + tabuleiro[linha[1]] + tabuleiro[linha[2]]\n",
        "            if soma == 3:\n",
        "                return 1  # X venceu\n",
        "            elif soma == -3:\n",
        "                return -1  # O venceu\n",
        "        if 0 not in tabuleiro:\n",
        "            return 0  # Empate\n",
        "        return None\n",
        "\n",
        "    tabuleiro = [0] * 9\n",
        "\n",
        "    while True:\n",
        "        try:\n",
        "            jogador_humano = int(input(\"Escolha seu jogador (1 para 'X', -1 para 'O'): \"))\n",
        "            if jogador_humano in [1, -1]:\n",
        "                break\n",
        "            else:\n",
        "                print(\"Entrada inválida. Escolha 1 para 'X' ou -1 para 'O'.\")\n",
        "        except ValueError:\n",
        "            print(\"Entrada inválida. Escolha 1 para 'X' ou -1 para 'O'.\")\n",
        "\n",
        "    jogador_rede = -1 if jogador_humano == 1 else 1\n",
        "    print(f\"Você será o jogador {'X' if jogador_humano == 1 else 'O'} ({jogador_humano}). Rede Neural será {'X' if jogador_rede == 1 else 'O'} ({jogador_rede}).\")\n",
        "\n",
        "    while True:\n",
        "        mostrar_tabuleiro(tabuleiro)\n",
        "        vencedor = verificar_vencedor(tabuleiro)\n",
        "        if vencedor is not None:\n",
        "            if vencedor == 1:\n",
        "                print(\"'X' venceu!\")\n",
        "            elif vencedor == -1:\n",
        "                print(\"'O' venceu!\")\n",
        "            else:\n",
        "                print(\"Empate!\")\n",
        "            break\n",
        "\n",
        "        if sum(tabuleiro) == 0 or (sum(tabuleiro) == -1 and jogador_humano == 1) or (sum(tabuleiro) == 1 and jogador_humano == -1):  # Vez do humano\n",
        "            while True:\n",
        "                try:\n",
        "                    posicao = int(input(\"Escolha sua posição (0-8): \"))\n",
        "                    if tabuleiro[posicao] == 0:\n",
        "                        tabuleiro[posicao] = jogador_humano\n",
        "                        break\n",
        "                    else:\n",
        "                        print(\"Posição ocupada. Escolha outra.\")\n",
        "                except (ValueError, IndexError):\n",
        "                    print(\"Entrada inválida. Escolha um número entre 0 e 8.\")\n",
        "        else:  # Vez da Rede Neural\n",
        "            with torch.no_grad():\n",
        "                entrada = torch.tensor(tabuleiro, dtype=torch.float32).unsqueeze(0)\n",
        "                predicao = modelo(entrada)\n",
        "                movimento = torch.argmax(predicao, dim=1).item()\n",
        "                while tabuleiro[movimento] != 0:  # Garante que o movimento é válido\n",
        "                    predicao[0, movimento] = -float('inf')\n",
        "                    movimento = torch.argmax(predicao, dim=1).item()\n",
        "                tabuleiro[movimento] = jogador_rede"
      ],
      "metadata": {
        "id": "dEWM6VXyagbF"
      },
      "execution_count": 11,
      "outputs": []
    },
    {
      "cell_type": "code",
      "source": [
        "if __name__ == \"__main__\":\n",
        "    jogar_com_rede_neural()"
      ],
      "metadata": {
        "colab": {
          "base_uri": "https://localhost:8080/"
        },
        "id": "u7JKZKD_azPr",
        "outputId": "ac8f505f-685d-4dd6-dcdf-3a2c9f75db08"
      },
      "execution_count": null,
      "outputs": [
        {
          "output_type": "stream",
          "name": "stderr",
          "text": [
            "<ipython-input-11-a3dc33d9c66b>:3: FutureWarning: You are using `torch.load` with `weights_only=False` (the current default value), which uses the default pickle module implicitly. It is possible to construct malicious pickle data which will execute arbitrary code during unpickling (See https://github.com/pytorch/pytorch/blob/main/SECURITY.md#untrusted-models for more details). In a future release, the default value for `weights_only` will be flipped to `True`. This limits the functions that could be executed during unpickling. Arbitrary objects will no longer be allowed to be loaded via this mode unless they are explicitly allowlisted by the user via `torch.serialization.add_safe_globals`. We recommend you start setting `weights_only=True` for any use case where you don't have full control of the loaded file. Please open an issue on GitHub for any issues related to this experimental feature.\n",
            "  modelo.load_state_dict(torch.load(\"modelo_jogo_da_velha.pth\"))\n"
          ]
        }
      ]
    }
  ]
}